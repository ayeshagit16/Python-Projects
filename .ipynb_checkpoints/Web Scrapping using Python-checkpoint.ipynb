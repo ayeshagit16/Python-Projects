{
 "cells": [
  {
   "cell_type": "markdown",
   "id": "6df9f7fd",
   "metadata": {},
   "source": [
    "# Web Scrapping from a website:"
   ]
  },
  {
   "cell_type": "markdown",
   "id": "730095db",
   "metadata": {},
   "source": [
    "**1. Install all the libraries required using pip install**\n",
    "* Follow Web_Scrapping_Documentation.docx"
   ]
  },
  {
   "cell_type": "markdown",
   "id": "8c0379ee",
   "metadata": {},
   "source": [
    "**2. Import libraries required to scrape a website**"
   ]
  },
  {
   "cell_type": "code",
   "execution_count": 1,
   "id": "1534e728",
   "metadata": {},
   "outputs": [],
   "source": [
    "#import requests and BeautifulSoup library\n",
    "import requests\n",
    "import bs4"
   ]
  },
  {
   "cell_type": "markdown",
   "id": "e4605b80",
   "metadata": {},
   "source": [
    "**3. Connect to 'https://quotes.toscrape.com/' and get the html text**"
   ]
  },
  {
   "cell_type": "code",
   "execution_count": 14,
   "id": "ab094972",
   "metadata": {},
   "outputs": [],
   "source": [
    "res = requests.get('https://quotes.toscrape.com/')"
   ]
  },
  {
   "cell_type": "code",
   "execution_count": 16,
   "id": "c848a738",
   "metadata": {},
   "outputs": [],
   "source": [
    "#can check the contents of the response\n",
    "#res.content \n",
    "#or \n",
    "#res.text"
   ]
  },
  {
   "cell_type": "code",
   "execution_count": 17,
   "id": "02085fb6",
   "metadata": {},
   "outputs": [],
   "source": [
    "soup = bs4.BeautifulSoup(res.text,'lxml')"
   ]
  },
  {
   "cell_type": "code",
   "execution_count": 19,
   "id": "21164c4e",
   "metadata": {},
   "outputs": [],
   "source": [
    "#BeautifulSoup converts it into a more readable format\n",
    "#soup"
   ]
  },
  {
   "cell_type": "markdown",
   "id": "c39babef",
   "metadata": {},
   "source": [
    "**TASK1: Get the names of all the authors on the first page**"
   ]
  },
  {
   "cell_type": "markdown",
   "id": "13e5ffd3",
   "metadata": {},
   "source": [
    "**4. Inpect the page or right click on any author name on the page and Inspect, find the tag specific for authors**"
   ]
  },
  {
   "cell_type": "code",
   "execution_count": 23,
   "id": "c9ac1dd3",
   "metadata": {},
   "outputs": [
    {
     "data": {
      "text/plain": [
       "[<small class=\"author\" itemprop=\"author\">Albert Einstein</small>,\n",
       " <small class=\"author\" itemprop=\"author\">J.K. Rowling</small>,\n",
       " <small class=\"author\" itemprop=\"author\">Albert Einstein</small>,\n",
       " <small class=\"author\" itemprop=\"author\">Jane Austen</small>,\n",
       " <small class=\"author\" itemprop=\"author\">Marilyn Monroe</small>,\n",
       " <small class=\"author\" itemprop=\"author\">Albert Einstein</small>,\n",
       " <small class=\"author\" itemprop=\"author\">André Gide</small>,\n",
       " <small class=\"author\" itemprop=\"author\">Thomas A. Edison</small>,\n",
       " <small class=\"author\" itemprop=\"author\">Eleanor Roosevelt</small>,\n",
       " <small class=\"author\" itemprop=\"author\">Steve Martin</small>]"
      ]
     },
     "execution_count": 23,
     "metadata": {},
     "output_type": "execute_result"
    }
   ],
   "source": [
    "#use soup.select to get only the tags/details of author class, it results in a list of items\n",
    "soup.select('.author')"
   ]
  },
  {
   "cell_type": "code",
   "execution_count": 24,
   "id": "963ec81b",
   "metadata": {},
   "outputs": [
    {
     "data": {
      "text/plain": [
       "<small class=\"author\" itemprop=\"author\">Albert Einstein</small>"
      ]
     },
     "execution_count": 24,
     "metadata": {},
     "output_type": "execute_result"
    }
   ],
   "source": [
    "#get the first item in the list\n",
    "soup.select('.author')[0]"
   ]
  },
  {
   "cell_type": "code",
   "execution_count": 27,
   "id": "04d359ca",
   "metadata": {},
   "outputs": [
    {
     "data": {
      "text/plain": [
       "['Albert Einstein']"
      ]
     },
     "execution_count": 27,
     "metadata": {},
     "output_type": "execute_result"
    }
   ],
   "source": [
    "#get the contents\n",
    "soup.select('.author')[0].contents"
   ]
  },
  {
   "cell_type": "code",
   "execution_count": 34,
   "id": "f283e74a",
   "metadata": {},
   "outputs": [],
   "source": [
    "#Final:\n",
    "authors = []\n",
    "for author in soup.select('.author'):\n",
    "    authors.append(author.text)"
   ]
  },
  {
   "cell_type": "code",
   "execution_count": 35,
   "id": "493a7335",
   "metadata": {},
   "outputs": [
    {
     "data": {
      "text/plain": [
       "['Albert Einstein',\n",
       " 'J.K. Rowling',\n",
       " 'Albert Einstein',\n",
       " 'Jane Austen',\n",
       " 'Marilyn Monroe',\n",
       " 'Albert Einstein',\n",
       " 'André Gide',\n",
       " 'Thomas A. Edison',\n",
       " 'Eleanor Roosevelt',\n",
       " 'Steve Martin']"
      ]
     },
     "execution_count": 35,
     "metadata": {},
     "output_type": "execute_result"
    }
   ],
   "source": [
    "authors"
   ]
  },
  {
   "cell_type": "markdown",
   "id": "a5344519",
   "metadata": {},
   "source": [
    "**TASK2: Create a list of all the quotes in the first page**"
   ]
  },
  {
   "cell_type": "code",
   "execution_count": 36,
   "id": "c115dd20",
   "metadata": {},
   "outputs": [
    {
     "data": {
      "text/plain": [
       "[<span class=\"text\" itemprop=\"text\">“The world as we have created it is a process of our thinking. It cannot be changed without changing our thinking.”</span>,\n",
       " <span class=\"text\" itemprop=\"text\">“It is our choices, Harry, that show what we truly are, far more than our abilities.”</span>,\n",
       " <span class=\"text\" itemprop=\"text\">“There are only two ways to live your life. One is as though nothing is a miracle. The other is as though everything is a miracle.”</span>,\n",
       " <span class=\"text\" itemprop=\"text\">“The person, be it gentleman or lady, who has not pleasure in a good novel, must be intolerably stupid.”</span>,\n",
       " <span class=\"text\" itemprop=\"text\">“Imperfection is beauty, madness is genius and it's better to be absolutely ridiculous than absolutely boring.”</span>,\n",
       " <span class=\"text\" itemprop=\"text\">“Try not to become a man of success. Rather become a man of value.”</span>,\n",
       " <span class=\"text\" itemprop=\"text\">“It is better to be hated for what you are than to be loved for what you are not.”</span>,\n",
       " <span class=\"text\" itemprop=\"text\">“I have not failed. I've just found 10,000 ways that won't work.”</span>,\n",
       " <span class=\"text\" itemprop=\"text\">“A woman is like a tea bag; you never know how strong it is until it's in hot water.”</span>,\n",
       " <span class=\"text\" itemprop=\"text\">“A day without sunshine is like, you know, night.”</span>]"
      ]
     },
     "execution_count": 36,
     "metadata": {},
     "output_type": "execute_result"
    }
   ],
   "source": [
    "#Perform steps similar as above (step 4)\n",
    "#find the tag associated with the quotes using Inspect\n",
    "soup.select('.text')"
   ]
  },
  {
   "cell_type": "code",
   "execution_count": 37,
   "id": "b3492d0d",
   "metadata": {},
   "outputs": [
    {
     "data": {
      "text/plain": [
       "'“The world as we have created it is a process of our thinking. It cannot be changed without changing our thinking.”'"
      ]
     },
     "execution_count": 37,
     "metadata": {},
     "output_type": "execute_result"
    }
   ],
   "source": [
    "soup.select('.text')[0].text"
   ]
  },
  {
   "cell_type": "code",
   "execution_count": 38,
   "id": "50c68223",
   "metadata": {},
   "outputs": [],
   "source": [
    "#Final:\n",
    "quotes = []\n",
    "for quote in soup.select('.text'):\n",
    "    quotes.append(quote.text)"
   ]
  },
  {
   "cell_type": "code",
   "execution_count": 39,
   "id": "e9672631",
   "metadata": {},
   "outputs": [
    {
     "data": {
      "text/plain": [
       "['“The world as we have created it is a process of our thinking. It cannot be changed without changing our thinking.”',\n",
       " '“It is our choices, Harry, that show what we truly are, far more than our abilities.”',\n",
       " '“There are only two ways to live your life. One is as though nothing is a miracle. The other is as though everything is a miracle.”',\n",
       " '“The person, be it gentleman or lady, who has not pleasure in a good novel, must be intolerably stupid.”',\n",
       " \"“Imperfection is beauty, madness is genius and it's better to be absolutely ridiculous than absolutely boring.”\",\n",
       " '“Try not to become a man of success. Rather become a man of value.”',\n",
       " '“It is better to be hated for what you are than to be loved for what you are not.”',\n",
       " \"“I have not failed. I've just found 10,000 ways that won't work.”\",\n",
       " \"“A woman is like a tea bag; you never know how strong it is until it's in hot water.”\",\n",
       " '“A day without sunshine is like, you know, night.”']"
      ]
     },
     "execution_count": 39,
     "metadata": {},
     "output_type": "execute_result"
    }
   ],
   "source": [
    "quotes"
   ]
  },
  {
   "cell_type": "markdown",
   "id": "cf2c7454",
   "metadata": {},
   "source": [
    "**TASK3: Inspect the site and use Beautiful Soup to extract the top ten tags from the requests text shown on the top right from the home page (e.g Love,Inspirational,Life, etc...).**"
   ]
  },
  {
   "cell_type": "code",
   "execution_count": 80,
   "id": "5b833d9c",
   "metadata": {},
   "outputs": [
    {
     "data": {
      "text/plain": [
       "[<span class=\"tag-item\">\n",
       " <a class=\"tag\" href=\"/tag/love/\" style=\"font-size: 28px\">love</a>\n",
       " </span>,\n",
       " <span class=\"tag-item\">\n",
       " <a class=\"tag\" href=\"/tag/inspirational/\" style=\"font-size: 26px\">inspirational</a>\n",
       " </span>,\n",
       " <span class=\"tag-item\">\n",
       " <a class=\"tag\" href=\"/tag/life/\" style=\"font-size: 26px\">life</a>\n",
       " </span>,\n",
       " <span class=\"tag-item\">\n",
       " <a class=\"tag\" href=\"/tag/humor/\" style=\"font-size: 24px\">humor</a>\n",
       " </span>,\n",
       " <span class=\"tag-item\">\n",
       " <a class=\"tag\" href=\"/tag/books/\" style=\"font-size: 22px\">books</a>\n",
       " </span>,\n",
       " <span class=\"tag-item\">\n",
       " <a class=\"tag\" href=\"/tag/reading/\" style=\"font-size: 14px\">reading</a>\n",
       " </span>,\n",
       " <span class=\"tag-item\">\n",
       " <a class=\"tag\" href=\"/tag/friendship/\" style=\"font-size: 10px\">friendship</a>\n",
       " </span>,\n",
       " <span class=\"tag-item\">\n",
       " <a class=\"tag\" href=\"/tag/friends/\" style=\"font-size: 8px\">friends</a>\n",
       " </span>,\n",
       " <span class=\"tag-item\">\n",
       " <a class=\"tag\" href=\"/tag/truth/\" style=\"font-size: 8px\">truth</a>\n",
       " </span>,\n",
       " <span class=\"tag-item\">\n",
       " <a class=\"tag\" href=\"/tag/simile/\" style=\"font-size: 6px\">simile</a>\n",
       " </span>]"
      ]
     },
     "execution_count": 80,
     "metadata": {},
     "output_type": "execute_result"
    }
   ],
   "source": [
    "#find the specific tag element\n",
    "soup.select('.tag-item')"
   ]
  },
  {
   "cell_type": "code",
   "execution_count": 81,
   "id": "8becf6a5",
   "metadata": {},
   "outputs": [],
   "source": [
    "result = soup.select('.tag-item')[0]"
   ]
  },
  {
   "cell_type": "code",
   "execution_count": 82,
   "id": "99b05770",
   "metadata": {},
   "outputs": [
    {
     "data": {
      "text/plain": [
       "<span class=\"tag-item\">\n",
       "<a class=\"tag\" href=\"/tag/love/\" style=\"font-size: 28px\">love</a>\n",
       "</span>"
      ]
     },
     "execution_count": 82,
     "metadata": {},
     "output_type": "execute_result"
    }
   ],
   "source": [
    "result"
   ]
  },
  {
   "cell_type": "code",
   "execution_count": 83,
   "id": "8bd2dffa",
   "metadata": {},
   "outputs": [
    {
     "data": {
      "text/plain": [
       "'\\nlove\\n'"
      ]
     },
     "execution_count": 83,
     "metadata": {},
     "output_type": "execute_result"
    }
   ],
   "source": [
    "result.text"
   ]
  },
  {
   "cell_type": "code",
   "execution_count": 85,
   "id": "08aade19",
   "metadata": {},
   "outputs": [
    {
     "name": "stdout",
     "output_type": "stream",
     "text": [
      "\n",
      "love\n",
      "\n",
      "\n",
      "inspirational\n",
      "\n",
      "\n",
      "life\n",
      "\n",
      "\n",
      "humor\n",
      "\n",
      "\n",
      "books\n",
      "\n",
      "\n",
      "reading\n",
      "\n",
      "\n",
      "friendship\n",
      "\n",
      "\n",
      "friends\n",
      "\n",
      "\n",
      "truth\n",
      "\n",
      "\n",
      "simile\n",
      "\n"
     ]
    }
   ],
   "source": [
    "#Final:\n",
    "for tag in soup.select('.tag-item'):\n",
    "        print(tag.text)    "
   ]
  },
  {
   "cell_type": "markdown",
   "id": "089cee02",
   "metadata": {},
   "source": [
    "**TASK4: Loop through all the pages and get all the unique authors on the website.**"
   ]
  },
  {
   "cell_type": "code",
   "execution_count": 99,
   "id": "7321dd60",
   "metadata": {},
   "outputs": [],
   "source": [
    "#frame the base url so that it can be used for multiple pages\n",
    "#'https://quotes.toscrape.com/page/1/'\n",
    "base_url = 'https://quotes.toscrape.com/page/{}/'"
   ]
  },
  {
   "cell_type": "code",
   "execution_count": 101,
   "id": "64c7a8a7",
   "metadata": {},
   "outputs": [
    {
     "data": {
      "text/plain": [
       "'https://quotes.toscrape.com/page/1/'"
      ]
     },
     "execution_count": 101,
     "metadata": {},
     "output_type": "execute_result"
    }
   ],
   "source": [
    "#Testing for page1\n",
    "base_url.format(1)"
   ]
  },
  {
   "cell_type": "code",
   "execution_count": 103,
   "id": "02150169",
   "metadata": {},
   "outputs": [],
   "source": [
    "#1.\n",
    "res = requests.get(base_url.format(1))"
   ]
  },
  {
   "cell_type": "code",
   "execution_count": 106,
   "id": "8fe51cca",
   "metadata": {
    "scrolled": true
   },
   "outputs": [],
   "source": [
    "#2. Convert it into BeautifulSoup\n",
    "soup = bs4.BeautifulSoup(res.text,'lxml')"
   ]
  },
  {
   "cell_type": "code",
   "execution_count": 108,
   "id": "59424309",
   "metadata": {},
   "outputs": [],
   "source": [
    "#soup"
   ]
  },
  {
   "cell_type": "code",
   "execution_count": 111,
   "id": "3cf8190a",
   "metadata": {},
   "outputs": [
    {
     "data": {
      "text/plain": [
       "[<small class=\"author\" itemprop=\"author\">Albert Einstein</small>,\n",
       " <small class=\"author\" itemprop=\"author\">J.K. Rowling</small>,\n",
       " <small class=\"author\" itemprop=\"author\">Albert Einstein</small>,\n",
       " <small class=\"author\" itemprop=\"author\">Jane Austen</small>,\n",
       " <small class=\"author\" itemprop=\"author\">Marilyn Monroe</small>,\n",
       " <small class=\"author\" itemprop=\"author\">Albert Einstein</small>,\n",
       " <small class=\"author\" itemprop=\"author\">André Gide</small>,\n",
       " <small class=\"author\" itemprop=\"author\">Thomas A. Edison</small>,\n",
       " <small class=\"author\" itemprop=\"author\">Eleanor Roosevelt</small>,\n",
       " <small class=\"author\" itemprop=\"author\">Steve Martin</small>]"
      ]
     },
     "execution_count": 111,
     "metadata": {},
     "output_type": "execute_result"
    }
   ],
   "source": [
    "#3. Inspect the page to find tag for authors name\n",
    "soup.select('.author')"
   ]
  },
  {
   "cell_type": "code",
   "execution_count": 112,
   "id": "c3178f37",
   "metadata": {},
   "outputs": [],
   "source": [
    "result = soup.select('.author')[0]"
   ]
  },
  {
   "cell_type": "code",
   "execution_count": 114,
   "id": "d1bba030",
   "metadata": {},
   "outputs": [
    {
     "data": {
      "text/plain": [
       "'Albert Einstein'"
      ]
     },
     "execution_count": 114,
     "metadata": {},
     "output_type": "execute_result"
    }
   ],
   "source": [
    "result.text"
   ]
  },
  {
   "cell_type": "code",
   "execution_count": 2,
   "id": "1ae3e3b8",
   "metadata": {},
   "outputs": [],
   "source": [
    "#Final:\n",
    "base_url = 'https://quotes.toscrape.com/page/{}/'\n",
    "authors = set()\n",
    "n = 1\n",
    "while True:\n",
    "    res = requests.get(base_url.format(n))\n",
    "    n = n+1\n",
    "    \n",
    "    soup = bs4.BeautifulSoup(res.text,'lxml')\n",
    "    \n",
    "    if len(soup.select('.author')) != 0:\n",
    "        for author in soup.select('.author'):\n",
    "            authors.add(author.text)\n",
    "    else:\n",
    "        break"
   ]
  },
  {
   "cell_type": "code",
   "execution_count": 3,
   "id": "db8f3099",
   "metadata": {},
   "outputs": [
    {
     "data": {
      "text/plain": [
       "{'Albert Einstein',\n",
       " 'Alexandre Dumas fils',\n",
       " 'Alfred Tennyson',\n",
       " 'Allen Saunders',\n",
       " 'André Gide',\n",
       " 'Ayn Rand',\n",
       " 'Bob Marley',\n",
       " 'C.S. Lewis',\n",
       " 'Charles Bukowski',\n",
       " 'Charles M. Schulz',\n",
       " 'Douglas Adams',\n",
       " 'Dr. Seuss',\n",
       " 'E.E. Cummings',\n",
       " 'Eleanor Roosevelt',\n",
       " 'Elie Wiesel',\n",
       " 'Ernest Hemingway',\n",
       " 'Friedrich Nietzsche',\n",
       " 'Garrison Keillor',\n",
       " 'George Bernard Shaw',\n",
       " 'George Carlin',\n",
       " 'George Eliot',\n",
       " 'George R.R. Martin',\n",
       " 'Harper Lee',\n",
       " 'Haruki Murakami',\n",
       " 'Helen Keller',\n",
       " 'J.D. Salinger',\n",
       " 'J.K. Rowling',\n",
       " 'J.M. Barrie',\n",
       " 'J.R.R. Tolkien',\n",
       " 'James Baldwin',\n",
       " 'Jane Austen',\n",
       " 'Jim Henson',\n",
       " 'Jimi Hendrix',\n",
       " 'John Lennon',\n",
       " 'Jorge Luis Borges',\n",
       " 'Khaled Hosseini',\n",
       " \"Madeleine L'Engle\",\n",
       " 'Marilyn Monroe',\n",
       " 'Mark Twain',\n",
       " 'Martin Luther King Jr.',\n",
       " 'Mother Teresa',\n",
       " 'Pablo Neruda',\n",
       " 'Ralph Waldo Emerson',\n",
       " 'Stephenie Meyer',\n",
       " 'Steve Martin',\n",
       " 'Suzanne Collins',\n",
       " 'Terry Pratchett',\n",
       " 'Thomas A. Edison',\n",
       " 'W.C. Fields',\n",
       " 'William Nicholson'}"
      ]
     },
     "execution_count": 3,
     "metadata": {},
     "output_type": "execute_result"
    }
   ],
   "source": [
    "authors"
   ]
  },
  {
   "cell_type": "code",
   "execution_count": 5,
   "id": "2d2e9c39",
   "metadata": {},
   "outputs": [
    {
     "data": {
      "text/plain": [
       "50"
      ]
     },
     "execution_count": 5,
     "metadata": {},
     "output_type": "execute_result"
    }
   ],
   "source": [
    "len(authors)"
   ]
  },
  {
   "cell_type": "code",
   "execution_count": null,
   "id": "5c27d711",
   "metadata": {},
   "outputs": [],
   "source": []
  }
 ],
 "metadata": {
  "kernelspec": {
   "display_name": "Python 3 (ipykernel)",
   "language": "python",
   "name": "python3"
  },
  "language_info": {
   "codemirror_mode": {
    "name": "ipython",
    "version": 3
   },
   "file_extension": ".py",
   "mimetype": "text/x-python",
   "name": "python",
   "nbconvert_exporter": "python",
   "pygments_lexer": "ipython3",
   "version": "3.9.7"
  }
 },
 "nbformat": 4,
 "nbformat_minor": 5
}
